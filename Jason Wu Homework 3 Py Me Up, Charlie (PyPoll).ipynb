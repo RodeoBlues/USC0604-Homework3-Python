{
 "cells": [
  {
   "cell_type": "code",
   "execution_count": 2,
   "metadata": {
    "collapsed": true
   },
   "outputs": [],
   "source": [
    "#Dependencies\n",
    "import os\n",
    "import csv"
   ]
  },
  {
   "cell_type": "code",
   "execution_count": 18,
   "metadata": {
    "collapsed": false
   },
   "outputs": [
    {
     "name": "stdout",
     "output_type": "stream",
     "text": [
      "Election Results\n",
      "-------------------------\n",
      "Total Votes: 3521001\n",
      "-------------------------\n",
      "Khan: 63.000% (2218231)\n",
      "Correy: 20.000% (704200)\n",
      "Li: 14.000% (492940)\n",
      "O'Tooley: 3.000% (105630)\n",
      "-------------------------\n",
      "Winner: Khan\n",
      "-------------------------\n"
     ]
    }
   ],
   "source": [
    "#Set Path\n",
    "csvpath = os.path.join(\"PyPoll\",\"Resources\",\"election_data.csv\")\n",
    "\n",
    "#Initialize variables\n",
    "total_votes = 0\n",
    "khan = 0\n",
    "khan_p = 0\n",
    "correy = 0\n",
    "correy_p = 0\n",
    "li = 0\n",
    "li_p = 0\n",
    "otooley = 0\n",
    "otooley_p = 0\n",
    "winner = 0\n",
    "\n",
    "#Open csv\n",
    "with open(csvpath, newline=\"\") as csvfile:\n",
    "    csvreader = csv.reader(csvfile, delimiter=\",\")\n",
    "    first_row = next(csvreader)\n",
    "    \n",
    "    #Loop through the rows\n",
    "    for row in csvreader:\n",
    "        total_votes += 1\n",
    "        if row[2] == \"Khan\":\n",
    "            khan += 1\n",
    "        elif row[2] == \"Correy\":\n",
    "            correy += 1\n",
    "        elif row[2] == \"Li\":\n",
    "            li += 1\n",
    "        else: \n",
    "            otooley += 1\n",
    "            \n",
    "#Calculate the percentages\n",
    "khan_p = (khan / total_votes) * 100\n",
    "correy_p = (correy / total_votes) * 100\n",
    "li_p = (li / total_votes) * 100\n",
    "otooley_p = (otooley / total_votes) * 100\n",
    "\n",
    "#There should be a more efficient way to do this, fix later...\n",
    "if khan > correy and khan > li and khan > otooley:\n",
    "    winner = \"Khan\"\n",
    "elif correy > khan and correy > li and correy > otooley:\n",
    "    winner = \"Correy\"\n",
    "elif li > khan and li > correy and li > otooley:\n",
    "    winner = \"Li\"\n",
    "else:\n",
    "    winner = \"O'Tooley\"\n",
    "\n",
    "\n",
    "#Format data before final output\n",
    "#For the votes\n",
    "khan = '({:})'.format(khan)\n",
    "li = '({:})'.format(li)\n",
    "correy = '({:})'.format(correy)\n",
    "otooley = '({:})'.format(otooley)\n",
    "#For the percentages\n",
    "khan_p = '{:.3f}%'.format(khan_p)\n",
    "li_p = '{:.3f}%'.format(li_p)\n",
    "correy_p = '{:.3f}%'.format(correy_p)\n",
    "otooley_p = '{:.3f}%'.format(otooley_p)\n",
    "\n",
    "#Print Result\n",
    "print(\"Election Results\\n\"\\\n",
    "     + \"-------------------------\\n\"\\\n",
    "     + \"Total Votes: \" + str(total_votes) + \"\\n\"\\\n",
    "     + \"-------------------------\\n\"\\\n",
    "     + \"Khan: \" + str(khan_p) + \" \" + str(khan) + \"\\n\"\\\n",
    "     + \"Correy: \" + str(correy_p) + \" \" + str(correy) + \"\\n\"\\\n",
    "     + \"Li: \" + str(li_p) + \" \" + str(li) + \"\\n\"\\\n",
    "     + \"O'Tooley: \" + str(otooley_p) + \" \" + str(otooley) + \"\\n\"\\\n",
    "     + \"-------------------------\\n\"\\\n",
    "     + \"Winner: \" + winner + \"\\n\"\\\n",
    "     + \"-------------------------\")"
   ]
  },
  {
   "cell_type": "code",
   "execution_count": 19,
   "metadata": {
    "collapsed": true
   },
   "outputs": [],
   "source": [
    "# Export Analysis to text file\n",
    "f = open(\"PyPoll_Analysis.txt\",\"w\")\n",
    "# Write inside\n",
    "f.write(\"Election Results\\n\"\\\n",
    "     + \"-------------------------\\n\"\\\n",
    "     + \"Total Votes: \" + str(total_votes) + \"\\n\"\\\n",
    "     + \"-------------------------\\n\"\\\n",
    "     + \"Khan: \" + str(khan_p) + \" \" + str(khan) + \"\\n\"\\\n",
    "     + \"Correy: \" + str(correy_p) + \" \" + str(correy) + \"\\n\"\\\n",
    "     + \"Li: \" + str(li_p) + \" \" + str(li) + \"\\n\"\\\n",
    "     + \"O'Tooley: \" + str(otooley_p) + \" \" + str(otooley) + \"\\n\"\\\n",
    "     + \"-------------------------\\n\"\\\n",
    "     + \"Winner: \" + winner + \"\\n\"\\\n",
    "     + \"-------------------------\")\n",
    "f.close()"
   ]
  },
  {
   "cell_type": "code",
   "execution_count": null,
   "metadata": {
    "collapsed": true
   },
   "outputs": [],
   "source": []
  }
 ],
 "metadata": {
  "kernelspec": {
   "display_name": "Python 3",
   "language": "python",
   "name": "python3"
  },
  "language_info": {
   "codemirror_mode": {
    "name": "ipython",
    "version": 3
   },
   "file_extension": ".py",
   "mimetype": "text/x-python",
   "name": "python",
   "nbconvert_exporter": "python",
   "pygments_lexer": "ipython3",
   "version": "3.6.0"
  }
 },
 "nbformat": 4,
 "nbformat_minor": 2
}
