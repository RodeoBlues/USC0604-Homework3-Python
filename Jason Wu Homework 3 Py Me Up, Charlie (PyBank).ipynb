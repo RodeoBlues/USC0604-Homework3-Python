{
 "cells": [
  {
   "cell_type": "code",
   "execution_count": 1,
   "metadata": {
    "collapsed": true
   },
   "outputs": [],
   "source": [
    "# Dependencies\n",
    "import os\n",
    "import csv"
   ]
  },
  {
   "cell_type": "code",
   "execution_count": 2,
   "metadata": {
    "collapsed": false
   },
   "outputs": [
    {
     "name": "stdout",
     "output_type": "stream",
     "text": [
      "Financial Analysis\n",
      "----------------------------\n",
      "Total Months: 86\n",
      "Total: $38382578.00\n",
      "Average Change: $7803.48\n",
      "Greatest Increase in Profits: Feb-2012 ($1170593)\n",
      "Greatest Decrease in Profits: Sep-2013 ($-1196225)\n",
      "\n"
     ]
    }
   ],
   "source": [
    "# Set Path for file\n",
    "csvpath = os.path.join(\"PyBank\",\"Resources\",\"budget_data.csv\")\n",
    "\n",
    "# Initialize variables\n",
    "total_months = 0\n",
    "total = 0\n",
    "average_change = 0\n",
    "greatest_increase = 0\n",
    "greatest_increase_date = 0\n",
    "greatest_decrease = 0\n",
    "greatest_decrease_date = 0\n",
    "change = []\n",
    "#Used for change list\n",
    "prev_value = 0\n",
    "value = 0\n",
    "difference = 0\n",
    "# For all the data remember to float() the number strings being read\n",
    "\n",
    "# Open csv\n",
    "with open(csvpath, newline=\"\") as csvfile:\n",
    "    csvreader = csv.reader(csvfile, delimiter=\",\")\n",
    "    # Start from second line\n",
    "    first_row = next(csvreader)\n",
    "    # Loop through the rows\n",
    "    for row in csvreader:\n",
    "        #sets value to the profit/loss\n",
    "        value = float(row[1])\n",
    "        difference = value - prev_value\n",
    "        change.append(difference)\n",
    "        # Set to prev_value for next calculation\n",
    "        prev_value = float(row[1])\n",
    "        \n",
    "        total_months += 1\n",
    "        total += int(row[1])\n",
    "        \n",
    "            # Check for either increase or decrease in Profits\n",
    "            # For increase in profits\n",
    "        if float(row[1]) >=0:\n",
    "                # Check for if increase in profit is greater\n",
    "            if float(row[1]) > greatest_increase:\n",
    "                # Rewrite the value for the new greatest increase in profits\n",
    "                greatest_increase = float(row[1])\n",
    "                greatest_increase_date = row[0]\n",
    "        # For decrease in profits\n",
    "        else:\n",
    "            # Check if the decrease in profit is greater\n",
    "            if float(row[1]) < greatest_decrease:\n",
    "                # Rewrite the value for the new greatest decrease in profits\n",
    "                greatest_decrease = float(row[1])\n",
    "                greatest_decrease_date = row[0]\n",
    "average_change = sum(change) / len(change)\n",
    "average_change = round(average_change, 2)\n",
    "greatest_increase = '${:.0f}'.format(greatest_increase)\n",
    "greatest_decrease = '${:.0f}'.format(greatest_decrease)\n",
    "\n",
    "# Change format to contain \"$\" before final output\n",
    "total = '${:.2f}'.format(total)\n",
    "average_change = '${:.2f}'.format(average_change)\n",
    "# \"\\\" must be at the end of the line, make sure no spaces, or else indentation error\n",
    "print(\"Financial Analysis\\n\"\\\n",
    "      + \"----------------------------\" + \"\\n\"\\\n",
    "      + \"Total Months: \" + str(total_months) + \"\\n\"\\\n",
    "      + \"Total: \" + str(total) + \"\\n\"\\\n",
    "      + \"Average Change: \" + str(average_change) + \"\\n\"\\\n",
    "      + \"Greatest Increase in Profits: \" \\\n",
    "      + greatest_increase_date + \" (\" + str(greatest_increase) +\")\\n\"\\\n",
    "      + \"Greatest Decrease in Profits: \"\\\n",
    "      + greatest_decrease_date + \" (\" + str(greatest_decrease) +\")\\n\")"
   ]
  },
  {
   "cell_type": "code",
   "execution_count": 3,
   "metadata": {
    "collapsed": false
   },
   "outputs": [],
   "source": [
    "# Export Analysis to text file\n",
    "f = open(\"PyBank_Analysis.txt\",\"w\")\n",
    "# Write inside\n",
    "f.write(\"Financial Analysis\\n\"\\\n",
    "  + \"----------------------------\" + \"\\n\"\\\n",
    "  + \"Total Months: \" + str(total_months) + \"\\n\"\\\n",
    "  + \"Total: \" + str(total) + \"\\n\"\\\n",
    "  + \"Average Change: \" + str(average_change) + \"\\n\"\\\n",
    "  + \"Greatest Increase in Profits: \" \\\n",
    "  + greatest_increase_date + \" (\" + str(greatest_increase) +\")\\n\"\\\n",
    "  + \"Greatest Decrease in Profits: \"\\\n",
    "  + greatest_decrease_date + \" (\" + str(greatest_decrease) +\")\\n\")\n",
    "f.close()"
   ]
  },
  {
   "cell_type": "code",
   "execution_count": null,
   "metadata": {
    "collapsed": true
   },
   "outputs": [],
   "source": []
  }
 ],
 "metadata": {
  "kernelspec": {
   "display_name": "Python 3",
   "language": "python",
   "name": "python3"
  },
  "language_info": {
   "codemirror_mode": {
    "name": "ipython",
    "version": 3
   },
   "file_extension": ".py",
   "mimetype": "text/x-python",
   "name": "python",
   "nbconvert_exporter": "python",
   "pygments_lexer": "ipython3",
   "version": "3.6.0"
  }
 },
 "nbformat": 4,
 "nbformat_minor": 2
}
